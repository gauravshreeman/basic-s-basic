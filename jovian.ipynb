{
 "cells": [
  {
   "cell_type": "code",
   "execution_count": 1,
   "id": "51e30633-6f4f-46e6-b3e4-1f3ff38e48bb",
   "metadata": {},
   "outputs": [
    {
     "name": "stdout",
     "output_type": "stream",
     "text": [
      "Hello\n"
     ]
    }
   ],
   "source": [
    "print(\"Hello\")"
   ]
  },
  {
   "cell_type": "code",
   "execution_count": 2,
   "id": "59cd0385-54ee-4daf-9c1b-c9118268d349",
   "metadata": {},
   "outputs": [],
   "source": [
    "#Perfroming arithematic operations"
   ]
  },
  {
   "cell_type": "code",
   "execution_count": 3,
   "id": "7bfc14ad-6e42-4eac-af20-6b648744baeb",
   "metadata": {},
   "outputs": [
    {
     "data": {
      "text/plain": [
       "13"
      ]
     },
     "execution_count": 3,
     "metadata": {},
     "output_type": "execute_result"
    }
   ],
   "source": [
    "2+3+8"
   ]
  },
  {
   "cell_type": "code",
   "execution_count": 4,
   "id": "c975eafd-9275-477a-8329-9a4b8042c50e",
   "metadata": {},
   "outputs": [
    {
     "data": {
      "text/plain": [
       "62"
      ]
     },
     "execution_count": 4,
     "metadata": {},
     "output_type": "execute_result"
    }
   ],
   "source": [
    "87-25"
   ]
  },
  {
   "cell_type": "code",
   "execution_count": 5,
   "id": "8bd00f4f-b340-4bea-b402-04b0e84ada70",
   "metadata": {},
   "outputs": [
    {
     "data": {
      "text/plain": [
       "45.7"
      ]
     },
     "execution_count": 5,
     "metadata": {},
     "output_type": "execute_result"
    }
   ],
   "source": [
    "22.85*2"
   ]
  },
  {
   "cell_type": "code",
   "execution_count": 6,
   "id": "8f5c8a59-0cd2-4a17-89b9-2d6679804338",
   "metadata": {},
   "outputs": [
    {
     "data": {
      "text/plain": [
       "-714.048"
      ]
     },
     "execution_count": 6,
     "metadata": {},
     "output_type": "execute_result"
    }
   ],
   "source": [
    "89.256*-8\n"
   ]
  },
  {
   "cell_type": "code",
   "execution_count": 7,
   "id": "0df43e42-ef6b-4955-a272-dfb8ec821ded",
   "metadata": {},
   "outputs": [
    {
     "data": {
      "text/plain": [
       "14.285714285714286"
      ]
     },
     "execution_count": 7,
     "metadata": {},
     "output_type": "execute_result"
    }
   ],
   "source": [
    "100/7"
   ]
  },
  {
   "cell_type": "code",
   "execution_count": 8,
   "id": "67ee73e9-4b54-4246-9999-7e0d39e7ffc6",
   "metadata": {},
   "outputs": [
    {
     "data": {
      "text/plain": [
       "12"
      ]
     },
     "execution_count": 8,
     "metadata": {},
     "output_type": "execute_result"
    }
   ],
   "source": [
    "100//8"
   ]
  },
  {
   "cell_type": "code",
   "execution_count": 9,
   "id": "257dee38-25a3-4a8f-a120-994948fb5a1b",
   "metadata": {},
   "outputs": [
    {
     "data": {
      "text/plain": [
       "0"
      ]
     },
     "execution_count": 9,
     "metadata": {},
     "output_type": "execute_result"
    }
   ],
   "source": [
    "100%5"
   ]
  },
  {
   "cell_type": "code",
   "execution_count": 10,
   "id": "7515e67f-2d9c-4d5a-b2ee-a7334321d448",
   "metadata": {},
   "outputs": [
    {
     "data": {
      "text/plain": [
       "1953125"
      ]
     },
     "execution_count": 10,
     "metadata": {},
     "output_type": "execute_result"
    }
   ],
   "source": [
    "5**9\n"
   ]
  },
  {
   "cell_type": "code",
   "execution_count": 11,
   "id": "634243e0-60b4-4d06-a94d-1335c8ed58a4",
   "metadata": {},
   "outputs": [],
   "source": [
    "#Solving a grocery store problem"
   ]
  },
  {
   "cell_type": "code",
   "execution_count": 12,
   "id": "0d159642-740a-47d5-bd57-0de153ca4a0e",
   "metadata": {},
   "outputs": [
    {
     "name": "stdout",
     "output_type": "stream",
     "text": [
      "Total profit of the grocery store is $ 125.0\n"
     ]
    }
   ],
   "source": [
    "print(\"Total profit of the grocery store is $\", 500*(1.25*0.2))"
   ]
  },
  {
   "cell_type": "code",
   "execution_count": 13,
   "id": "6fb20f9e-7e2f-4c4a-ac7d-3de1d7bdc08a",
   "metadata": {},
   "outputs": [],
   "source": [
    "cost_of_the_rice_bag = 1.25;"
   ]
  },
  {
   "cell_type": "code",
   "execution_count": 14,
   "id": "b0937ccd-f931-45e8-93a1-7fcdf30358c1",
   "metadata": {},
   "outputs": [],
   "source": [
    "profit_margin = 0.2;"
   ]
  },
  {
   "cell_type": "code",
   "execution_count": 15,
   "id": "75188aa4-6119-412e-91f3-f25077dba0c2",
   "metadata": {},
   "outputs": [],
   "source": [
    "number_of_rice_bag = 500;"
   ]
  },
  {
   "cell_type": "code",
   "execution_count": 16,
   "id": "473f1a39-c100-4935-b47d-bb966b5b3eca",
   "metadata": {},
   "outputs": [
    {
     "data": {
      "text/plain": [
       "0.2"
      ]
     },
     "execution_count": 16,
     "metadata": {},
     "output_type": "execute_result"
    }
   ],
   "source": [
    "profit_margin"
   ]
  },
  {
   "cell_type": "code",
   "execution_count": 17,
   "id": "99bfc345-0640-4765-aa43-e69c31514339",
   "metadata": {},
   "outputs": [
    {
     "name": "stdout",
     "output_type": "stream",
     "text": [
      "The net profit of rice bags in the grocery store is $ 125.0\n"
     ]
    }
   ],
   "source": [
    "total_profit = number_of_rice_bag*(cost_of_the_rice_bag * profit_margin);\n",
    "print(\"The net profit of rice bags in the grocery store is $\", total_profit);"
   ]
  },
  {
   "cell_type": "code",
   "execution_count": 18,
   "id": "9434f84a-2c98-4aac-a8ee-8d9084e8db88",
   "metadata": {},
   "outputs": [
    {
     "name": "stdout",
     "output_type": "stream",
     "text": [
      "The net profit of rice bags in the grocery store is $ 125.0\n"
     ]
    }
   ],
   "source": [
    "#values from the store \n",
    "cost_of_the_rice_bag = 1.25;\n",
    "profit_margin = 0.2;\n",
    "number_of_rice_bag = 500;\n",
    "#calculations\n",
    "total_profit = number_of_rice_bag*(cost_of_the_rice_bag * profit_margin);\n",
    "#total\n",
    "print(\"The net profit of rice bags in the grocery store is $\", total_profit);"
   ]
  },
  {
   "cell_type": "code",
   "execution_count": 19,
   "id": "5a9aa165-1254-4d83-9b32-4522f2efbc3c",
   "metadata": {},
   "outputs": [],
   "source": [
    "my_most_favourite_number = 108;\n",
    "my_least_favourite_number = 12;\n",
    "my_neutral_number = 6;"
   ]
  },
  {
   "cell_type": "code",
   "execution_count": 20,
   "id": "406ea365-ea8c-4cad-9158-6e04e1211307",
   "metadata": {},
   "outputs": [
    {
     "data": {
      "text/plain": [
       "True"
      ]
     },
     "execution_count": 20,
     "metadata": {},
     "output_type": "execute_result"
    }
   ],
   "source": [
    "my_most_favourite_number == 108"
   ]
  },
  {
   "cell_type": "code",
   "execution_count": 21,
   "id": "c3ec2dfa-fe69-4628-803b-e8035b5ef9b1",
   "metadata": {},
   "outputs": [
    {
     "data": {
      "text/plain": [
       "False"
      ]
     },
     "execution_count": 21,
     "metadata": {},
     "output_type": "execute_result"
    }
   ],
   "source": [
    "not my_least_favourite_number == 12"
   ]
  },
  {
   "cell_type": "code",
   "execution_count": 22,
   "id": "077d5fe5-88d3-4760-a306-f448347a13af",
   "metadata": {},
   "outputs": [
    {
     "data": {
      "text/plain": [
       "True"
      ]
     },
     "execution_count": 22,
     "metadata": {},
     "output_type": "execute_result"
    }
   ],
   "source": [
    "my_most_favourite_number != my_least_favourite_number"
   ]
  },
  {
   "cell_type": "code",
   "execution_count": 23,
   "id": "c2267342-15e7-4bd2-95a0-4ce1bea78ea5",
   "metadata": {},
   "outputs": [
    {
     "data": {
      "text/plain": [
       "True"
      ]
     },
     "execution_count": 23,
     "metadata": {},
     "output_type": "execute_result"
    }
   ],
   "source": [
    "my_most_favourite_number > my_least_favourite_number"
   ]
  },
  {
   "cell_type": "code",
   "execution_count": 24,
   "id": "709ab9cf-f38d-4bc5-b86c-5acadab1dba8",
   "metadata": {},
   "outputs": [
    {
     "data": {
      "text/plain": [
       "True"
      ]
     },
     "execution_count": 24,
     "metadata": {},
     "output_type": "execute_result"
    }
   ],
   "source": [
    "total_profit > 100"
   ]
  },
  {
   "cell_type": "code",
   "execution_count": 25,
   "id": "4f0d6f81-0693-4558-b673-b80fadfdafb8",
   "metadata": {},
   "outputs": [
    {
     "data": {
      "text/plain": [
       "True"
      ]
     },
     "execution_count": 25,
     "metadata": {},
     "output_type": "execute_result"
    }
   ],
   "source": [
    "my_most_favourite_number > my_least_favourite_number or not my_most_favourite_number != my_least_favourite_number"
   ]
  },
  {
   "cell_type": "code",
   "execution_count": 26,
   "id": "f6343de0-c205-499d-bd3c-054986854f54",
   "metadata": {},
   "outputs": [
    {
     "name": "stdout",
     "output_type": "stream",
     "text": [
      "yo\n"
     ]
    }
   ],
   "source": [
    "#PYTHON TERNARY OPERATOR \n",
    "a,b = 8,9\n",
    "if a < b:\n",
    "    print(\"yo\")\n",
    "else:\n",
    "    print(\"eww\")"
   ]
  },
  {
   "cell_type": "code",
   "execution_count": 27,
   "id": "f95b180f-55a5-4451-8e12-5863b6784e5f",
   "metadata": {},
   "outputs": [
    {
     "name": "stdout",
     "output_type": "stream",
     "text": [
      "wow\n"
     ]
    }
   ],
   "source": [
    "#EQUIVALENT CODE WITH TERNARY OPERATOR \n",
    "a,b=17,34\n",
    "print(\"wow\" if a<b else \"eww\")"
   ]
  },
  {
   "cell_type": "code",
   "execution_count": 28,
   "id": "fd1a94fa-42ab-4a91-bbae-e0d3eaa08842",
   "metadata": {},
   "outputs": [
    {
     "name": "stdout",
     "output_type": "stream",
     "text": [
      "64\n"
     ]
    }
   ],
   "source": [
    "a = 7*7\n",
    "b = 8**2\n",
    "if a>b:\n",
    "    print(a)\n",
    "else:\n",
    "    print(b)"
   ]
  },
  {
   "cell_type": "code",
   "execution_count": 29,
   "id": "6adaf8d1-6a68-4b22-8de7-d6598c241e55",
   "metadata": {},
   "outputs": [
    {
     "name": "stdout",
     "output_type": "stream",
     "text": [
      "Not Equal\n"
     ]
    }
   ],
   "source": [
    "a,b=7*7,7**2\n",
    "print(\"equal\" if a!=b else \"Not Equal\")"
   ]
  },
  {
   "cell_type": "code",
   "execution_count": 30,
   "id": "ec00583c-a6f7-4433-84be-f317aba1afe4",
   "metadata": {},
   "outputs": [
    {
     "data": {
      "text/plain": [
       "'b'"
      ]
     },
     "execution_count": 30,
     "metadata": {},
     "output_type": "execute_result"
    }
   ],
   "source": [
    "from random import random\n",
    "a,b = random(), random()\n",
    "res=\"a\" if a>b else \"b\"\n",
    "res"
   ]
  },
  {
   "cell_type": "code",
   "execution_count": 31,
   "id": "2b682988-aa41-4247-b5a1-bdcac6188cdb",
   "metadata": {},
   "outputs": [
    {
     "name": "stdin",
     "output_type": "stream",
     "text": [
      " 98\n",
      " 89\n"
     ]
    },
    {
     "name": "stdout",
     "output_type": "stream",
     "text": [
      "187\n",
      "more than century\n"
     ]
    }
   ],
   "source": [
    "a = int (input())\n",
    "b = int (input())\n",
    "print(a+b)\n",
    "if a+b > 100:\n",
    "    print (\"more than century\")\n",
    "else:\n",
    "    print(\"Not a century\")"
   ]
  },
  {
   "cell_type": "code",
   "execution_count": 32,
   "id": "6b03a742-15df-4b0c-a532-6a3e3440de48",
   "metadata": {},
   "outputs": [
    {
     "name": "stdout",
     "output_type": "stream",
     "text": [
      "0.5778036381081566 0.8589771768508266\n"
     ]
    }
   ],
   "source": [
    "from random import random\n",
    "a,b=float (random()), float (random())\n",
    "print (a,b)"
   ]
  },
  {
   "cell_type": "code",
   "execution_count": 33,
   "id": "84aa37bb-d171-4322-acf6-d62fea002057",
   "metadata": {},
   "outputs": [
    {
     "data": {
      "text/plain": [
       "(0.5778036381081566, 0.8589771768508266)"
      ]
     },
     "execution_count": 33,
     "metadata": {},
     "output_type": "execute_result"
    }
   ],
   "source": [
    "a,b"
   ]
  },
  {
   "cell_type": "code",
   "execution_count": 34,
   "id": "601deff3-a6b6-4832-b3ae-c919d7a2aca0",
   "metadata": {},
   "outputs": [
    {
     "data": {
      "text/plain": [
       "'a:0.5778036381081566'"
      ]
     },
     "execution_count": 34,
     "metadata": {},
     "output_type": "execute_result"
    }
   ],
   "source": [
    ">>> (f\"b:{b}\",f\"a:{a}\")[a<b]"
   ]
  },
  {
   "cell_type": "code",
   "execution_count": 35,
   "id": "c0cd75ca-f8a7-44e2-b90e-3d78776bc946",
   "metadata": {},
   "outputs": [
    {
     "data": {
      "text/plain": [
       "'b:7'"
      ]
     },
     "execution_count": 35,
     "metadata": {},
     "output_type": "execute_result"
    }
   ],
   "source": [
    "a,b=2,7\n",
    "(f\"a:{a}\",f\"b:{b}\")[a<b]"
   ]
  },
  {
   "cell_type": "code",
   "execution_count": 36,
   "id": "321933b9-a08e-4781-ad21-5884fb0a3b92",
   "metadata": {},
   "outputs": [
    {
     "name": "stdout",
     "output_type": "stream",
     "text": [
      "0.161661753711012 0.3738642083543069\n"
     ]
    },
    {
     "data": {
      "text/plain": [
       "'a:0.161661753711012'"
      ]
     },
     "execution_count": 36,
     "metadata": {},
     "output_type": "execute_result"
    }
   ],
   "source": [
    "a,b=random(), random()\n",
    "print(a,b)\n",
    "{False:f\"b:{b}\",True:f\"a:{a}\"} [a<b]"
   ]
  },
  {
   "cell_type": "code",
   "execution_count": 37,
   "id": "f945a5b3-d6cc-4173-ba89-171ca808045b",
   "metadata": {},
   "outputs": [
    {
     "data": {
      "text/plain": [
       "'a is greater than zero'"
      ]
     },
     "execution_count": 37,
     "metadata": {},
     "output_type": "execute_result"
    }
   ],
   "source": [
    "a = random()\n",
    "\"a is greater than zero\" if a>0 else \"between 0 and 1\" if a>0 and a<=1 else \"greater than 1\""
   ]
  },
  {
   "cell_type": "code",
   "execution_count": 38,
   "id": "305222b4-08e3-4ce9-bbf3-4a1dbd42775e",
   "metadata": {},
   "outputs": [
    {
     "data": {
      "text/plain": [
       "'I am gaurav'"
      ]
     },
     "execution_count": 38,
     "metadata": {},
     "output_type": "execute_result"
    }
   ],
   "source": [
    "def gaurav():\n",
    "    def sourav(): \n",
    "        print(\"He is a man\")\n",
    "sourav() if gaurav() else 'I am gaurav'"
   ]
  },
  {
   "cell_type": "code",
   "execution_count": 39,
   "id": "7e1375d1-b119-4410-8874-abbd0ac5649d",
   "metadata": {},
   "outputs": [
    {
     "data": {
      "text/plain": [
       "0"
      ]
     },
     "execution_count": 39,
     "metadata": {},
     "output_type": "execute_result"
    }
   ],
   "source": [
    "a,b=2,3\n",
    "a//b"
   ]
  },
  {
   "cell_type": "markdown",
   "id": "671bbb29-3d08-4afe-a2c0-28cda63dcf0c",
   "metadata": {},
   "source": [
    "**Gaurav**"
   ]
  },
  {
   "cell_type": "markdown",
   "id": "6032695d-c170-46dd-8c0c-c22607a180e7",
   "metadata": {},
   "source": [
    "*Gaurav*"
   ]
  },
  {
   "cell_type": "markdown",
   "id": "3ed33f80-ff06-4d39-b91e-941e6668058f",
   "metadata": {},
   "source": [
    "[Geeks4Geeks](https://www.geeksforgeeks.org/taking-input-in-python/)"
   ]
  },
  {
   "cell_type": "code",
   "execution_count": 40,
   "id": "071c91ed-3d1d-4758-a33e-afcf9c6be8fc",
   "metadata": {},
   "outputs": [],
   "source": [
    "a_number=9"
   ]
  },
  {
   "cell_type": "code",
   "execution_count": 41,
   "id": "939439ef-ee0f-4f87-ade4-ab099603d24d",
   "metadata": {},
   "outputs": [
    {
     "data": {
      "text/plain": [
       "int"
      ]
     },
     "execution_count": 41,
     "metadata": {},
     "output_type": "execute_result"
    }
   ],
   "source": [
    "type(a_number)"
   ]
  },
  {
   "cell_type": "code",
   "execution_count": 42,
   "id": "0f6bd7c1-825b-4f43-9427-736a8d14962e",
   "metadata": {},
   "outputs": [
    {
     "data": {
      "text/plain": [
       "4"
      ]
     },
     "execution_count": 42,
     "metadata": {},
     "output_type": "execute_result"
    }
   ],
   "source": [
    "3 + True"
   ]
  },
  {
   "cell_type": "code",
   "execution_count": 43,
   "id": "71e5043f-73d5-4539-8f32-69915ec303db",
   "metadata": {},
   "outputs": [
    {
     "data": {
      "text/plain": [
       "1"
      ]
     },
     "execution_count": 43,
     "metadata": {},
     "output_type": "execute_result"
    }
   ],
   "source": [
    "3 ** False"
   ]
  },
  {
   "cell_type": "code",
   "execution_count": 44,
   "id": "4a4351b5-5e5a-41ab-b9e3-22d9acde153e",
   "metadata": {},
   "outputs": [
    {
     "data": {
      "text/plain": [
       "False"
      ]
     },
     "execution_count": 44,
     "metadata": {},
     "output_type": "execute_result"
    }
   ],
   "source": [
    "bool(0)"
   ]
  },
  {
   "cell_type": "code",
   "execution_count": 45,
   "id": "a41fb33a-4229-40a3-be5e-cce494d6406e",
   "metadata": {},
   "outputs": [
    {
     "data": {
      "text/plain": [
       "False"
      ]
     },
     "execution_count": 45,
     "metadata": {},
     "output_type": "execute_result"
    }
   ],
   "source": [
    "bool()"
   ]
  },
  {
   "cell_type": "code",
   "execution_count": 46,
   "id": "3d95fb00-852c-4201-b423-5c4f83f8e8b4",
   "metadata": {},
   "outputs": [
    {
     "data": {
      "text/plain": [
       "True"
      ]
     },
     "execution_count": 46,
     "metadata": {},
     "output_type": "execute_result"
    }
   ],
   "source": [
    "bool(8)"
   ]
  },
  {
   "cell_type": "code",
   "execution_count": 47,
   "id": "fc064d9f-eed9-4110-a7ec-95d896583c26",
   "metadata": {},
   "outputs": [
    {
     "data": {
      "text/plain": [
       "True"
      ]
     },
     "execution_count": 47,
     "metadata": {},
     "output_type": "execute_result"
    }
   ],
   "source": [
    "bool(\"0\")"
   ]
  },
  {
   "cell_type": "code",
   "execution_count": null,
   "id": "625be6fe-c691-4a47-b09f-e847ed7d4d52",
   "metadata": {},
   "outputs": [],
   "source": []
  },
  {
   "cell_type": "code",
   "execution_count": null,
   "id": "80895023-d32b-4bcc-948b-2959dcd4a3dc",
   "metadata": {},
   "outputs": [],
   "source": []
  }
 ],
 "metadata": {
  "kernelspec": {
   "display_name": "Python 3 (ipykernel)",
   "language": "python",
   "name": "python3"
  },
  "language_info": {
   "codemirror_mode": {
    "name": "ipython",
    "version": 3
   },
   "file_extension": ".py",
   "mimetype": "text/x-python",
   "name": "python",
   "nbconvert_exporter": "python",
   "pygments_lexer": "ipython3",
   "version": "3.11.7"
  }
 },
 "nbformat": 4,
 "nbformat_minor": 5
}
